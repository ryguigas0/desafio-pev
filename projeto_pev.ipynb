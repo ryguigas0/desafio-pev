{
  "nbformat": 4,
  "nbformat_minor": 0,
  "metadata": {
    "colab": {
      "provenance": []
    },
    "kernelspec": {
      "name": "python3",
      "display_name": "Python 3"
    },
    "language_info": {
      "name": "python"
    }
  },
  "cells": [
    {
      "cell_type": "markdown",
      "source": [
        "### Instalação do ambiente para o Google Colab\n",
        "- Java 17\n",
        "- Apache Spark 3.5.5 (hadoop 3.3)\n",
        "- Python 3.11.11"
      ],
      "metadata": {
        "id": "H5eK6o4DeQOF"
      }
    },
    {
      "cell_type": "code",
      "execution_count": null,
      "metadata": {
        "colab": {
          "base_uri": "https://localhost:8080/"
        },
        "id": "1fsgPohsbsAd",
        "outputId": "9ca4f31a-9024-4727-c70c-cfc7ed8a8f75"
      },
      "outputs": [
        {
          "output_type": "stream",
          "name": "stdout",
          "text": [
            "--2025-03-05 16:42:27--  http://archive.apache.org/dist/spark/spark-3.5.5/spark-3.5.5-bin-hadoop3.tgz\n",
            "Resolving archive.apache.org (archive.apache.org)... 65.108.204.189, 2a01:4f9:1a:a084::2\n",
            "Connecting to archive.apache.org (archive.apache.org)|65.108.204.189|:80... connected.\n",
            "HTTP request sent, awaiting response... 200 OK\n",
            "Length: 400724056 (382M) [application/x-gzip]\n",
            "Saving to: ‘spark-3.5.5-bin-hadoop3.tgz’\n",
            "\n",
            "spark-3.5.5-bin-had 100%[===================>] 382.16M   356KB/s    in 33m 36s \n",
            "\n",
            "2025-03-05 17:16:04 (194 KB/s) - ‘spark-3.5.5-bin-hadoop3.tgz’ saved [400724056/400724056]\n",
            "\n",
            "Python 3.11.11\n"
          ]
        }
      ],
      "source": [
        "!apt-get install openjdk-17-jdk-headless -qq > /dev/null\n",
        "!wget -O spark-3.5.5-bin-hadoop3.tgz http://archive.apache.org/dist/spark/spark-3.5.5/spark-3.5.5-bin-hadoop3.tgz\n",
        "!tar xf spark-3.5.5-bin-hadoop3.tgz\n",
        "!python --version"
      ]
    },
    {
      "cell_type": "code",
      "source": [
        "import os\n",
        "\n",
        "os.environ[\"JAVA_HOME\"] = \"/usr/lib/jvm/java-17-openjdk-amd64\"\n",
        "\n",
        "os.environ[\"SPARK_HOME\"] = \"/content/spark-3.5.5-bin-hadoop3\""
      ],
      "metadata": {
        "id": "Mbq0Co2LkeFC"
      },
      "execution_count": null,
      "outputs": []
    },
    {
      "cell_type": "markdown",
      "source": [
        "### Instalação das libs do projeto"
      ],
      "metadata": {
        "id": "Vr2OazM2fyi5"
      }
    },
    {
      "cell_type": "code",
      "source": [
        "# pyspark\n",
        "!pip install -q findspark pyspark\n",
        "\n",
        "# raspagem\n",
        "!pip install selenium bs4 lxml pandas"
      ],
      "metadata": {
        "colab": {
          "base_uri": "https://localhost:8080/"
        },
        "id": "L9Oy5n2xf2VP",
        "outputId": "94a7f660-3e5b-40d8-e3c5-fcb927c68784"
      },
      "execution_count": null,
      "outputs": [
        {
          "output_type": "stream",
          "name": "stdout",
          "text": [
            "Collecting selenium\n",
            "  Downloading selenium-4.29.0-py3-none-any.whl.metadata (7.1 kB)\n",
            "Collecting bs4\n",
            "  Downloading bs4-0.0.2-py2.py3-none-any.whl.metadata (411 bytes)\n",
            "Requirement already satisfied: lxml in /usr/local/lib/python3.11/dist-packages (5.3.1)\n",
            "Requirement already satisfied: pandas in /usr/local/lib/python3.11/dist-packages (2.2.2)\n",
            "Requirement already satisfied: urllib3<3,>=1.26 in /usr/local/lib/python3.11/dist-packages (from urllib3[socks]<3,>=1.26->selenium) (2.3.0)\n",
            "Collecting trio~=0.17 (from selenium)\n",
            "  Downloading trio-0.29.0-py3-none-any.whl.metadata (8.5 kB)\n",
            "Collecting trio-websocket~=0.9 (from selenium)\n",
            "  Downloading trio_websocket-0.12.2-py3-none-any.whl.metadata (5.1 kB)\n",
            "Requirement already satisfied: certifi>=2021.10.8 in /usr/local/lib/python3.11/dist-packages (from selenium) (2025.1.31)\n",
            "Requirement already satisfied: typing_extensions~=4.9 in /usr/local/lib/python3.11/dist-packages (from selenium) (4.12.2)\n",
            "Requirement already satisfied: websocket-client~=1.8 in /usr/local/lib/python3.11/dist-packages (from selenium) (1.8.0)\n",
            "Requirement already satisfied: beautifulsoup4 in /usr/local/lib/python3.11/dist-packages (from bs4) (4.13.3)\n",
            "Requirement already satisfied: numpy>=1.23.2 in /usr/local/lib/python3.11/dist-packages (from pandas) (1.26.4)\n",
            "Requirement already satisfied: python-dateutil>=2.8.2 in /usr/local/lib/python3.11/dist-packages (from pandas) (2.8.2)\n",
            "Requirement already satisfied: pytz>=2020.1 in /usr/local/lib/python3.11/dist-packages (from pandas) (2025.1)\n",
            "Requirement already satisfied: tzdata>=2022.7 in /usr/local/lib/python3.11/dist-packages (from pandas) (2025.1)\n",
            "Requirement already satisfied: six>=1.5 in /usr/local/lib/python3.11/dist-packages (from python-dateutil>=2.8.2->pandas) (1.17.0)\n",
            "Requirement already satisfied: attrs>=23.2.0 in /usr/local/lib/python3.11/dist-packages (from trio~=0.17->selenium) (25.1.0)\n",
            "Requirement already satisfied: sortedcontainers in /usr/local/lib/python3.11/dist-packages (from trio~=0.17->selenium) (2.4.0)\n",
            "Requirement already satisfied: idna in /usr/local/lib/python3.11/dist-packages (from trio~=0.17->selenium) (3.10)\n",
            "Collecting outcome (from trio~=0.17->selenium)\n",
            "  Downloading outcome-1.3.0.post0-py2.py3-none-any.whl.metadata (2.6 kB)\n",
            "Requirement already satisfied: sniffio>=1.3.0 in /usr/local/lib/python3.11/dist-packages (from trio~=0.17->selenium) (1.3.1)\n",
            "Collecting wsproto>=0.14 (from trio-websocket~=0.9->selenium)\n",
            "  Downloading wsproto-1.2.0-py3-none-any.whl.metadata (5.6 kB)\n",
            "Requirement already satisfied: pysocks!=1.5.7,<2.0,>=1.5.6 in /usr/local/lib/python3.11/dist-packages (from urllib3[socks]<3,>=1.26->selenium) (1.7.1)\n",
            "Requirement already satisfied: soupsieve>1.2 in /usr/local/lib/python3.11/dist-packages (from beautifulsoup4->bs4) (2.6)\n",
            "Requirement already satisfied: h11<1,>=0.9.0 in /usr/local/lib/python3.11/dist-packages (from wsproto>=0.14->trio-websocket~=0.9->selenium) (0.14.0)\n",
            "Downloading selenium-4.29.0-py3-none-any.whl (9.5 MB)\n",
            "\u001b[2K   \u001b[90m━━━━━━━━━━━━━━━━━━━━━━━━━━━━━━━━━━━━━━━━\u001b[0m \u001b[32m9.5/9.5 MB\u001b[0m \u001b[31m32.0 MB/s\u001b[0m eta \u001b[36m0:00:00\u001b[0m\n",
            "\u001b[?25hDownloading bs4-0.0.2-py2.py3-none-any.whl (1.2 kB)\n",
            "Downloading trio-0.29.0-py3-none-any.whl (492 kB)\n",
            "\u001b[2K   \u001b[90m━━━━━━━━━━━━━━━━━━━━━━━━━━━━━━━━━━━━━━━━\u001b[0m \u001b[32m492.9/492.9 kB\u001b[0m \u001b[31m26.5 MB/s\u001b[0m eta \u001b[36m0:00:00\u001b[0m\n",
            "\u001b[?25hDownloading trio_websocket-0.12.2-py3-none-any.whl (21 kB)\n",
            "Downloading outcome-1.3.0.post0-py2.py3-none-any.whl (10 kB)\n",
            "Downloading wsproto-1.2.0-py3-none-any.whl (24 kB)\n",
            "Installing collected packages: wsproto, outcome, trio, bs4, trio-websocket, selenium\n",
            "Successfully installed bs4-0.0.2 outcome-1.3.0.post0 selenium-4.29.0 trio-0.29.0 trio-websocket-0.12.2 wsproto-1.2.0\n"
          ]
        }
      ]
    },
    {
      "cell_type": "markdown",
      "source": [
        "### Extração de dados"
      ],
      "metadata": {
        "id": "q23AHKSCgPQb"
      }
    },
    {
      "cell_type": "code",
      "source": [
        "import time\n",
        "import pandas as pd # manipulação de dados\n",
        "from bs4 import BeautifulSoup # Parseador de HTML\n",
        "from selenium import webdriver\n",
        "from selenium.webdriver.common.by import By\n",
        "from datetime import datetime\n",
        "\n",
        "now = datetime.now()\n",
        "extract_timestamp = f\"{now.year}-{now.strftime('%m')}-{now.strftime('%d')}\"\n",
        "\n",
        "URL = \"https://www.worldometers.info/world-population/population-by-country/\"\n",
        "XPATH = '//*[@id=\"example2\"]'\n",
        "\n",
        "options = webdriver.FirefoxOptions()\n",
        "options.add_argument(\"-headless\")\n",
        "\n",
        "driver = webdriver.Firefox(options=options)\n",
        "driver.get(URL)\n",
        "time.sleep(5)\n",
        "table = BeautifulSoup(driver.find_element(By.XPATH, XPATH).get_attribute('outerHTML'), 'lxml').find(name='table')\n",
        "driver.quit()\n",
        "\n",
        "df = pd.read_html(str(table))[0]\n",
        "\n",
        "df_needed_columns = df[['Country (or dependency)', 'Population  (2024)', 'Yearly  Change']]\n",
        "\n",
        "df_needed_columns.to_csv(f\"{extract_timestamp}_populacao_paises.csv\", index=False)"
      ],
      "metadata": {
        "colab": {
          "base_uri": "https://localhost:8080/"
        },
        "id": "PESBdRgngRCX",
        "outputId": "630b8687-6bb3-444f-f1a1-84d8d3febedb"
      },
      "execution_count": 11,
      "outputs": [
        {
          "output_type": "stream",
          "name": "stderr",
          "text": [
            "<ipython-input-11-6246b8958450>:23: FutureWarning: Passing literal html to 'read_html' is deprecated and will be removed in a future version. To read from a literal string, wrap it in a 'StringIO' object.\n",
            "  df = pd.read_html(str(table))[0]\n"
          ]
        }
      ]
    },
    {
      "cell_type": "markdown",
      "source": [
        "### Processamento com PySpark"
      ],
      "metadata": {
        "id": "-8_chPPajVww"
      }
    },
    {
      "cell_type": "code",
      "source": [
        "from pyspark.sql import SparkSession\n",
        "\n",
        "session = SparkSession.builder.getOrCreate()"
      ],
      "metadata": {
        "id": "PnbBV_FkjYoA"
      },
      "execution_count": null,
      "outputs": []
    },
    {
      "cell_type": "code",
      "source": [
        "from pyspark.sql.functions import col, split, cast, pow\n",
        "from pyspark.sql.types import DoubleType\n",
        "from datetime import datetime\n",
        "\n",
        "now = datetime.now()\n",
        "process_timestamp = f\"{now.year}-{now.strftime('%m')}-{now.strftime('%d')}\"\n",
        "\n",
        "df = session.read.csv(\n",
        "\tf'{extract_timestamp}_populacao_paises.csv',\n",
        "\tsep=',',\n",
        "\theader=True,\n",
        "\tinferSchema=True\n",
        ")\n",
        "\n",
        "df = df.withColumnsRenamed({\n",
        "    'Country (or dependency)': 'country',\n",
        "    'Population  (2024)': 'population_2024',\n",
        "    'Yearly  Change': 'yearly_change'\n",
        "})\n",
        "\n",
        "df = df.withColumn('yearly_change', split(df.yearly_change, ' %')[0])\n",
        "df = df.withColumn('yearly_change', df.yearly_change.cast(DoubleType()) / 100)\n",
        "\n",
        "df.printSchema()\n",
        "df.show(5)\n",
        "\n",
        "pop_filter = df.filter(df.population_2024 >= 1000000)\n",
        "pop_filter.sort(pop_filter.population_2024, ascending=True).show(5)\n",
        "\n",
        "# pop2025 = pop2024 x (1 + yearly_change)\n",
        "#\n",
        "# pop2026 = pop2025 x (1 + yearly_change)\n",
        "# pop2026 = pop2024 x (1 + yearly_change) x (1 + yearly_change)\n",
        "# pop2026 = pop2024 x (1 + yearly_change) ^ 2\n",
        "#\n",
        "# pop2027 = pop2024 x (1 + yearly_change) ^ 3\n",
        "# ...\n",
        "# pop2030 = pop2024 x (1 + yearly_change) ^ 6\n",
        "pop_2030 = pop_filter.withColumn('population_2030', col('population_2024') * pow(1 + col('yearly_change'), 6))\n",
        "pop_2030.show(5)\n",
        "\n",
        "pop_2030.write.mode('overwrite').parquet(f'{process_timestamp}_populacao_paises_processado.parquet')"
      ],
      "metadata": {
        "colab": {
          "base_uri": "https://localhost:8080/"
        },
        "id": "FcWDQhkVjoIw",
        "outputId": "6343af30-8818-4413-e2b2-83a0b534b7fd"
      },
      "execution_count": 12,
      "outputs": [
        {
          "output_type": "stream",
          "name": "stdout",
          "text": [
            "root\n",
            " |-- country: string (nullable = true)\n",
            " |-- population_2024: integer (nullable = true)\n",
            " |-- yearly_change: double (nullable = true)\n",
            "\n",
            "+-------------+---------------+--------------------+\n",
            "|      country|population_2024|       yearly_change|\n",
            "+-------------+---------------+--------------------+\n",
            "|        India|     1450935791|              0.0089|\n",
            "|        China|     1419321278|             -0.0023|\n",
            "|United States|      345426571|0.005699999999999999|\n",
            "|    Indonesia|      283487931|0.008199999999999999|\n",
            "|     Pakistan|      251269164|              0.0152|\n",
            "+-------------+---------------+--------------------+\n",
            "only showing top 5 rows\n",
            "\n",
            "+---------+---------------+--------------------+\n",
            "|  country|population_2024|       yearly_change|\n",
            "+---------+---------------+--------------------+\n",
            "| Djibouti|        1168722|              0.0137|\n",
            "| Eswatini|        1242822|                0.01|\n",
            "|Mauritius|        1271169|             -0.0019|\n",
            "|   Cyprus|        1358282|0.009899999999999999|\n",
            "|  Estonia|        1360546|             -0.0049|\n",
            "+---------+---------------+--------------------+\n",
            "only showing top 5 rows\n",
            "\n",
            "+-------------+---------------+--------------------+--------------------+\n",
            "|      country|population_2024|       yearly_change|     population_2030|\n",
            "+-------------+---------------+--------------------+--------------------+\n",
            "|        India|     1450935791|              0.0089| 1.530160285933841E9|\n",
            "|        China|     1419321278|             -0.0023|1.3998469227245982E9|\n",
            "|United States|      345426571|0.005699999999999999| 3.574097882612033E8|\n",
            "|    Indonesia|      283487931|0.008199999999999999| 2.977246085446831E8|\n",
            "|     Pakistan|      251269164|              0.0152|2.7507356076835966E8|\n",
            "+-------------+---------------+--------------------+--------------------+\n",
            "only showing top 5 rows\n",
            "\n"
          ]
        }
      ]
    }
  ]
}